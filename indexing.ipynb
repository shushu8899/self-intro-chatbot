{
 "cells": [
  {
   "cell_type": "markdown",
   "metadata": {},
   "source": [
    "### Indexing"
   ]
  },
  {
   "cell_type": "code",
   "execution_count": 29,
   "metadata": {},
   "outputs": [],
   "source": [
    "import json\n",
    "import getpass\n",
    "import os\n",
    "from openai import OpenAI\n",
    "from pinecone import Pinecone\n",
    "from pinecone import ServerlessSpec\n",
    "from langchain_community.document_loaders import PyPDFLoader\n",
    "from langchain_text_splitters import RecursiveCharacterTextSplitter\n",
    "#!pip install langchain_pinecone\n",
    "from langchain_openai import OpenAIEmbeddings\n",
    "from langchain_pinecone import PineconeVectorStore\n",
    "from langchain_community.document_loaders.csv_loader import CSVLoader\n",
    "import time\n",
    "from typing import Sequence\n",
    "import streamlit as st\n",
    "from langchain_core.messages import HumanMessage\n",
    "import bs4\n",
    "from langchain_openai import ChatOpenAI, OpenAIEmbeddings\n",
    "from langchain_text_splitters import RecursiveCharacterTextSplitter\n",
    "from typing_extensions import Annotated, TypedDict\n",
    "from uuid import uuid4\n",
    "from langchain_core.documents import Document"
   ]
  },
  {
   "cell_type": "code",
   "execution_count": 30,
   "metadata": {},
   "outputs": [],
   "source": [
    "with open(\"secrets/openai_key.json\", \"r\") as f:\n",
    "    openai_secrets = json.load(f)\n",
    "os.environ[\"OPENAI_API_KEY\"] = openai_secrets[\"openai_api_key\"]\n",
    "client = OpenAI()\n",
    "\n",
    "with open(\"secrets/pinecone_key.json\", \"r\") as f:\n",
    "    pinecone_secrets = json.load(f)\n",
    "pc = Pinecone(pinecone_secrets[\"pinecone_api_key\"])\n",
    "\n",
    "index_name = \"langchain-test-index\"  # change if desired\n",
    "\n",
    "index = pc.Index(index_name)\n",
    "\n",
    "embeddings = OpenAIEmbeddings(\n",
    "    model=\"text-embedding-3-large\",\n",
    ")\n",
    "\n",
    "vector_store = PineconeVectorStore(index=index, embedding=embeddings)\n",
    "retriever = vector_store.as_retriever(\n",
    "    search_type=\"similarity_score_threshold\",\n",
    "    search_kwargs={\"k\": 3, \"score_threshold\": 0.5},\n",
    ")"
   ]
  },
  {
   "cell_type": "code",
   "execution_count": 31,
   "metadata": {},
   "outputs": [],
   "source": [
    "existing_indexes = [index_info[\"name\"] for index_info in pc.list_indexes()]\n",
    "\n",
    "if index_name not in existing_indexes:\n",
    "    pc.create_index(\n",
    "        name=index_name,\n",
    "        dimension=3072,\n",
    "        metric=\"cosine\",\n",
    "        spec=ServerlessSpec(cloud=\"aws\", region=\"us-east-1\"),\n",
    "    )\n",
    "    while not pc.describe_index(index_name).status[\"ready\"]:\n",
    "        time.sleep(1)"
   ]
  },
  {
   "cell_type": "code",
   "execution_count": 32,
   "metadata": {},
   "outputs": [],
   "source": [
    "#Recursive character split : divides the input text into smaller chunks of similar sizes in a hierarchical and iterative manner using a set of separators. \n",
    "\n",
    "formatted_documents = []\n",
    "for file in os.listdir(\"./data\"):\n",
    "    if file.lower().endswith(\"pdf\"):\n",
    "        loader = PyPDFLoader(f\"./data/{file}\")\n",
    "        documents = loader.load()\n",
    "        text = ''\n",
    "        for i in range(len(documents)):\n",
    "            text+=documents[i].page_content\n",
    "    elif file.lower().endswith(\"txt\"):\n",
    "        with open(f\"./data/{file}\", \"r\") as f:\n",
    "            text = f.read()\n",
    "    else:\n",
    "        print(f\"File {file} type not supported\")\n",
    "        continue\n",
    "    \n",
    "    text_splitter = RecursiveCharacterTextSplitter(chunk_size = 1000, chunk_overlap = 100)\n",
    "    docs = text_splitter.split_text(text)\n",
    "\n",
    "    for i in range(len(docs)):\n",
    "\n",
    "        formatted_documents.append(Document(\n",
    "            page_content=docs[i],\n",
    "            metadata={\"source\": file},\n",
    "        ))"
   ]
  },
  {
   "cell_type": "code",
   "execution_count": null,
   "metadata": {},
   "outputs": [],
   "source": [
    "uuids = [str(uuid4()) for _ in range(len(formatted_documents))]\n",
    "vector_store.add_documents(documents=formatted_documents, ids=uuids)"
   ]
  },
  {
   "cell_type": "code",
   "execution_count": null,
   "metadata": {},
   "outputs": [],
   "source": [
    "formatted_documents"
   ]
  },
  {
   "cell_type": "code",
   "execution_count": null,
   "metadata": {},
   "outputs": [],
   "source": []
  }
 ],
 "metadata": {
  "kernelspec": {
   "display_name": "proj1",
   "language": "python",
   "name": "python3"
  },
  "language_info": {
   "codemirror_mode": {
    "name": "ipython",
    "version": 3
   },
   "file_extension": ".py",
   "mimetype": "text/x-python",
   "name": "python",
   "nbconvert_exporter": "python",
   "pygments_lexer": "ipython3",
   "version": "3.9.20"
  }
 },
 "nbformat": 4,
 "nbformat_minor": 2
}
